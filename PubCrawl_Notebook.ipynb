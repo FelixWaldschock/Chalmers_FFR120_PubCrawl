{
 "cells": [
  {
   "cell_type": "markdown",
   "metadata": {},
   "source": [
    "PubCrawl Simulation Developer Notebook"
   ]
  },
  {
   "cell_type": "code",
   "execution_count": 1,
   "metadata": {},
   "outputs": [],
   "source": [
    "import numpy as np\n",
    "import matplotlib.pyplot as plt\n",
    "import scienceplots\n",
    "import tqdm\n",
    "plt.style.use(['science','grid'])\n",
    "\n",
    "# import custom modules\n",
    "import Pub\n",
    "import PubCrawlFunctions_withoutTime as PCF\n",
    "import Ant\n",
    "import Logger\n",
    "import randomPubsInit"
   ]
  },
  {
   "cell_type": "code",
   "execution_count": 2,
   "metadata": {},
   "outputs": [
    {
     "name": "stdout",
     "output_type": "stream",
     "text": [
      "Pub ID:  0\n",
      "Pub Name:  Velvet Tankard\n",
      "Opening Time:  484\n",
      "Closing Time:  368\n",
      "Popularity:  9\n",
      "Position X:  358\n",
      "Position Y:  884\n",
      "Peak Time:  None\n",
      "\n",
      "None\n"
     ]
    }
   ],
   "source": [
    "### init the Pubs\n",
    "# load the Pub CSV\n",
    "# pubsList = np.genfromtxt('Pubs.csv', delimiter=',', dtype=str, skip_header=1)\n",
    "# # init the Pubs \n",
    "# Pubs = []\n",
    "# for i in range(pubsList.shape[0]):\n",
    "#     pubID = pubsList[i][0]\n",
    "#     openingTime = pubsList[i][1]\n",
    "#     closingTime = pubsList[i][2]\n",
    "#     popularity = pubsList[i][3]\n",
    "#     posX = pubsList[i][4]\n",
    "#     posY = pubsList[i][5]\n",
    "#     # create the Pub\n",
    "#     pub = Pub.Pub(pubID, openingTime, closingTime, popularity, posX, posY)\n",
    "#     Pubs.append(pub)\n",
    "\n",
    "Pubs = PCF.initPubs('randomPubs.csv')\n",
    "print(Pubs[0].printPub())"
   ]
  },
  {
   "cell_type": "code",
   "execution_count": 3,
   "metadata": {},
   "outputs": [],
   "source": [
    "def showPubMap(Pubs):\n",
    "    # loop over the Pubs, extract the x and y coordinates and plot them\n",
    "    x = []\n",
    "    y = []\n",
    "    for pub in Pubs:\n",
    "        x.append(pub.posX)\n",
    "        y.append(pub.posY)\n",
    "    plt.scatter(x, y)\n",
    "    plt.xlabel('x')\n",
    "    plt.ylabel('y')\n",
    "    plt.title('Pub Map')\n",
    "    plt.show()\n",
    "    "
   ]
  },
  {
   "cell_type": "code",
   "execution_count": 4,
   "metadata": {},
   "outputs": [
    {
     "data": {
      "image/png": "[encoded data removed]",
      "text/plain": [
       "<Figure size 350x262.5 with 1 Axes>"
      ]
     },
     "metadata": {},
     "output_type": "display_data"
    }
   ],
   "source": [
    "showPubMap(Pubs)"
   ]
  },
  {
   "cell_type": "code",
   "execution_count": 5,
   "metadata": {},
   "outputs": [
    {
     "ename": "TypeError",
     "evalue": "unsupported operand type(s) for -: 'int' and 'NoneType'",
     "output_type": "error",
     "traceback": [
      "\u001b[0;31m---------------------------------------------------------------------------\u001b[0m",
      "\u001b[0;31mTypeError\u001b[0m                                 Traceback (most recent call last)",
      "Cell \u001b[0;32mIn [5], line 5\u001b[0m\n\u001b[1;32m      3\u001b[0m \u001b[38;5;66;03m# show waiting times for all pubs\u001b[39;00m\n\u001b[1;32m      4\u001b[0m \u001b[38;5;28;01mfor\u001b[39;00m p \u001b[38;5;129;01min\u001b[39;00m Pubs:\n\u001b[0;32m----> 5\u001b[0m     \u001b[38;5;28mprint\u001b[39m(\u001b[38;5;124m'\u001b[39m\u001b[38;5;124mPub ID: \u001b[39m\u001b[38;5;124m'\u001b[39m, p\u001b[38;5;241m.\u001b[39mpubID, \u001b[38;5;124m'\u001b[39m\u001b[38;5;124m Waiting Time: \u001b[39m\u001b[38;5;124m'\u001b[39m, \u001b[43mp\u001b[49m\u001b[38;5;241;43m.\u001b[39;49m\u001b[43mgetWaitingTime\u001b[49m\u001b[43m(\u001b[49m\u001b[43mcurrentTime\u001b[49m\u001b[43m)\u001b[49m)\n",
      "File \u001b[0;32m~/gits/Chalmers_FFR120_PubCrawl/Pub.py:46\u001b[0m, in \u001b[0;36mPub.getWaitingTime\u001b[0;34m(self, currentTime)\u001b[0m\n\u001b[1;32m     43\u001b[0m \u001b[38;5;28;01mif\u001b[39;00m (\u001b[38;5;28mself\u001b[39m\u001b[38;5;241m.\u001b[39mopeningTime \u001b[38;5;241m>\u001b[39m currentTime):\n\u001b[1;32m     44\u001b[0m     waitingTime \u001b[38;5;241m+\u001b[39m\u001b[38;5;241m=\u001b[39m \u001b[38;5;28mself\u001b[39m\u001b[38;5;241m.\u001b[39mopeningTime \u001b[38;5;241m-\u001b[39m currentTime\n\u001b[0;32m---> 46\u001b[0m waitingTime \u001b[38;5;241m+\u001b[39m\u001b[38;5;241m=\u001b[39m \u001b[38;5;28;43mself\u001b[39;49m\u001b[38;5;241;43m.\u001b[39;49m\u001b[43mgetQueueLength\u001b[49m\u001b[43m(\u001b[49m\u001b[43mcurrentTime\u001b[49m\u001b[43m)\u001b[49m\n\u001b[1;32m     48\u001b[0m \u001b[38;5;66;03m# if the pub is closed, the waiting time is infinite\u001b[39;00m\n\u001b[1;32m     49\u001b[0m \u001b[38;5;28;01mif\u001b[39;00m (\u001b[38;5;28mself\u001b[39m\u001b[38;5;241m.\u001b[39mclosingTime \u001b[38;5;241m<\u001b[39m currentTime):\n",
      "File \u001b[0;32m~/gits/Chalmers_FFR120_PubCrawl/Pub.py:27\u001b[0m, in \u001b[0;36mPub.getQueueLength\u001b[0;34m(self, currentTime)\u001b[0m\n\u001b[1;32m     25\u001b[0m sigma \u001b[38;5;241m=\u001b[39m \u001b[38;5;241m1\u001b[39m\n\u001b[1;32m     26\u001b[0m mu \u001b[38;5;241m=\u001b[39m \u001b[38;5;28mself\u001b[39m\u001b[38;5;241m.\u001b[39mpeakTime\n\u001b[0;32m---> 27\u001b[0m queueLength \u001b[38;5;241m=\u001b[39m \u001b[38;5;28mself\u001b[39m\u001b[38;5;241m.\u001b[39mpopularity \u001b[38;5;241m*\u001b[39m \u001b[38;5;241m1\u001b[39m\u001b[38;5;241m/\u001b[39m(np\u001b[38;5;241m.\u001b[39msqrt(\u001b[38;5;241m2\u001b[39m)) \u001b[38;5;241m*\u001b[39m np\u001b[38;5;241m.\u001b[39mexp(\u001b[38;5;241m-\u001b[39m\u001b[38;5;241m0.5\u001b[39m \u001b[38;5;241m*\u001b[39m ((\u001b[43mcurrentTime\u001b[49m\u001b[43m \u001b[49m\u001b[38;5;241;43m-\u001b[39;49m\u001b[43m \u001b[49m\u001b[43mmu\u001b[49m)\u001b[38;5;241m/\u001b[39msigma)\u001b[38;5;241m*\u001b[39m\u001b[38;5;241m*\u001b[39m\u001b[38;5;241m2\u001b[39m)\n\u001b[1;32m     29\u001b[0m \u001b[38;5;28;01mreturn\u001b[39;00m queueLength\n",
      "\u001b[0;31mTypeError\u001b[0m: unsupported operand type(s) for -: 'int' and 'NoneType'"
     ]
    }
   ],
   "source": [
    "currentTime = 10\n",
    "\n",
    "# show waiting times for all pubs\n",
    "for p in Pubs:\n",
    "    print('Pub ID: ', p.pubID, ' Waiting Time: ', p.getWaitingTime(currentTime))"
   ]
  },
  {
   "cell_type": "code",
   "execution_count": null,
   "metadata": {},
   "outputs": [],
   "source": [
    "currT = np.linspace(0, 1000, 100)\n",
    "\n",
    "# evaluate the waiting time for all pubs at different times\n",
    "for p in Pubs:\n",
    "    waitingTimes = []\n",
    "    for t in currT:\n",
    "        waitingTimes.append(p.getWaitingTime(t))\n",
    "    plt.plot(currT, waitingTimes, 'o', label=p.pubID)\n",
    "    plt.xlabel('Time')\n",
    "    plt.ylabel('Waiting Time')\n",
    "    plt.title('Waiting Times')\n",
    "    plt.legend()\n",
    "\n",
    "# plot wainting times for all pubs in a subplot\n",
    "\n",
    "\n",
    "# create a figure with subplots\n",
    "\n"
   ]
  },
  {
   "cell_type": "markdown",
   "metadata": {},
   "source": [
    "# Implementation of the Ant-Colony Optimization\n",
    "\n",
    "1.) Init the pheromone and visibility matrix\n"
   ]
  },
  {
   "cell_type": "code",
   "execution_count": null,
   "metadata": {},
   "outputs": [],
   "source": [
    "# Use the random pubs\n",
    "Pubs = PCF.initPubs('RandomPubs.csv')\n"
   ]
  },
  {
   "cell_type": "code",
   "execution_count": null,
   "metadata": {},
   "outputs": [],
   "source": [
    "# simulation paramters\n",
    "tau0 = 1\n",
    "alpha = 1\n",
    "beta = 1\n",
    "gamma = 1 \n",
    "rho = 0.2\n",
    "\n",
    "# simulation counters\n",
    "time = 0\n",
    "timeMax = int(60*12)            # 12 hours in minutes - 3pm to 3am \n",
    "iter = 0\n",
    "# population size of ants\n",
    "popSize = 100\n",
    "\n",
    "# velocity of an ant\n",
    "velAnt = 1\n"
   ]
  },
  {
   "cell_type": "code",
   "execution_count": null,
   "metadata": {},
   "outputs": [],
   "source": [
    "# init the pheromone matrix which is a 2D array with the size of the number of pubs\n",
    "pheromoneMatrix = np.ones((len(Pubs), len(Pubs)))\n",
    "pheromoneMatrix = pheromoneMatrix * tau0\n",
    "\n",
    "\n",
    "# the visibility matrix is in this case not only the distance between the pubs, but also takes into consideration\n",
    "# the waiting time at the next pub\n",
    "# we inititalize the matrix at time = 0\n",
    "\n",
    "# init the distance matrix D\n",
    "distanceMatrix = np.zeros((len(Pubs), len(Pubs)))\n",
    "for i in range(len(Pubs)):\n",
    "    for j in range(i, len(Pubs)):\n",
    "        distanceMatrix[i][j] = PCF.getDistance(Pubs[i], Pubs[j])\n",
    "        #  print(\"i and j: \", i, j, \" distance: \", distanceMatrix[i][j])\n",
    "\n",
    "        distanceMatrix[j][i] = distanceMatrix[i][j]\n",
    "\n",
    "# set the diagonal to 10e15\n",
    "for i in range(len(Pubs)):\n",
    "    distanceMatrix[i][i] = 10e15\n",
    "\n",
    "# init the visibility matrix\n",
    "visibilityMatrix = 1 / distanceMatrix"
   ]
  },
  {
   "cell_type": "code",
   "execution_count": null,
   "metadata": {},
   "outputs": [],
   "source": []
  },
  {
   "cell_type": "markdown",
   "metadata": {},
   "source": [
    "## Test the ACO without time dependecy, for this set timeMatrix = ones and gamma = 1"
   ]
  },
  {
   "cell_type": "code",
   "execution_count": null,
   "metadata": {},
   "outputs": [],
   "source": []
  },
  {
   "cell_type": "code",
   "execution_count": null,
   "metadata": {},
   "outputs": [],
   "source": [
    "pathCollection = np.zeros((popSize, len(Pubs)))\n",
    "pathLengthCollection = np.zeros((popSize, 1))\n",
    "\n",
    "minimumPathLength = int(10e15)\n",
    "minimumPath = np.zeros(len(Pubs))\n",
    "\n",
    "Plotting = False\n",
    "\n",
    "if Plotting:\n",
    "    # init a plot for the path\n",
    "    plt.figure(figsize=(8, 8))\n",
    "    plt.title('Pub Crawl')\n",
    "    plt.xlabel('x')\n",
    "    plt.ylabel('y')\n",
    "\n",
    "    # plot all pubs\n",
    "    x = [pub.posX for pub in Pubs]\n",
    "    y = [pub.posY for pub in Pubs]\n",
    "    pubs_scatter = plt.scatter(x, y)\n",
    "\n",
    "    # plot the connections between the pubs\n",
    "    connection_lines, = plt.plot([], [], 'k-')\n",
    "\n",
    "\n",
    "# clear the log file\n",
    "Logger.clearLog()\n",
    "\n",
    "\n",
    "while(True):\n",
    "    iter += 1\n",
    "\n",
    "    # Generate paths\n",
    "    for i in range(popSize):\n",
    "        path = PCF.generatePath(pheromoneMatrix, visibilityMatrix, waitingTimes, alpha, beta, gamma, Pubs)\n",
    "        pathLength = PCF.getPathLength(path, Pubs)\n",
    "\n",
    "        # update the minimal path\n",
    "        if pathLength < minimumPathLength:\n",
    "            minimumPathLength = pathLength\n",
    "            minimumPath = path\n",
    "\n",
    "            # inform the user\n",
    "            print('New minimum path found, in iteration: ', minimumPathLength, iter)\n",
    "            print(\"Path: \", minimumPath)\n",
    "\n",
    "            # log the new minimum path\n",
    "            Logger.logBestPath(minimumPath, minimumPathLength)\n",
    "\n",
    "            if Plotting:\n",
    "                # update scatter plot\n",
    "                x = [Pubs[pubID].posX for pubID in minimumPath]\n",
    "                y = [Pubs[pubID].posY for pubID in minimumPath]\n",
    "                pubs_scatter.set_offsets(np.column_stack((x, y)))\n",
    "\n",
    "                # update connection lines\n",
    "                connection_lines.set_xdata(x)\n",
    "                connection_lines.set_ydata(y)\n",
    "\n",
    "                # update the title\n",
    "                plt.title('Pub Crawl - Length: ' + str(minimumPathLength))\n",
    "\n",
    "                plt.pause(0.01)\n",
    "\n",
    "\n",
    "\n",
    "        pathCollection[i,:] = path\n",
    "        pathLengthCollection[i] = pathLength\n",
    "\n",
    "    # update the pheromone matrix\n",
    "    deltaPheromoneMatrix = PCF.getDeltaPheromoneMatrix(pathCollection, pathLengthCollection)\n",
    "    pheromoneMatrix = PCF.updatePheromoneMatrix(pheromoneMatrix, deltaPheromoneMatrix, rho)\n",
    "\n"
   ]
  },
  {
   "cell_type": "code",
   "execution_count": null,
   "metadata": {},
   "outputs": [],
   "source": [
    "# plot the best path\n",
    "# load the best path from the log files\n",
    "\n",
    "counter = 4\n",
    "\n",
    "bestPathPath = \"Logs/BestPath_\" + str(counter) + \".csv\"\n",
    "# read the last line of the file\n",
    "with open(bestPathPath, 'r') as f:\n",
    "    lines = f.readlines()\n",
    "    last_line = lines[-1]\n",
    "    bestPath = last_line\n",
    "\n",
    "\n",
    "# parse the bestPath, the first element is before the \",\" the second after\n",
    "bestPathOrigin = bestPath.split(',')\n",
    "# convert the first element to an array of intergers, delimited by ;\n",
    "bestPath = np.array(bestPathOrigin[0].split(';')).astype(int)\n",
    "bestPathLength = bestPathOrigin[1]\n",
    "\n",
    "# plot the best path\n",
    "fig = PCF.plotPath(bestPath, Pubs)\n",
    "plt.title('Best Path')\n",
    "plt.xlabel('x')\n",
    "plt.ylabel('y')\n",
    "plt.show()\n",
    "\n"
   ]
  },
  {
   "cell_type": "code",
   "execution_count": null,
   "metadata": {},
   "outputs": [],
   "source": [
    "print('Distance Matrix: ', distanceMatrix)\n",
    "\n",
    "print('Pheromone Matrix: ', pheromoneMatrix)\n",
    "\n",
    "print('Waiting vector: ', PCF.getWaitingVector(Pubs, time))\n",
    "\n",
    "print('Waiting vector: ', PCF.getWaitingVector(Pubs, 100))\n",
    "\n"
   ]
  }
 ],
 "metadata": {
  "kernelspec": {
   "display_name": "Python 3.10.12 64-bit",
   "language": "python",
   "name": "python3"
  },
  "language_info": {
   "codemirror_mode": {
    "name": "ipython",
    "version": 3
   },
   "file_extension": ".py",
   "mimetype": "text/x-python",
   "name": "python",
   "nbconvert_exporter": "python",
   "pygments_lexer": "ipython3",
   "version": "3.10.12"
  },
  "vscode": {
   "interpreter": {
    "hash": "bd385fe162c5ca0c84973b7dd5c518456272446b2b64e67c2a69f949ca7a1754"
   }
  }
 },
 "nbformat": 4,
 "nbformat_minor": 2
}
